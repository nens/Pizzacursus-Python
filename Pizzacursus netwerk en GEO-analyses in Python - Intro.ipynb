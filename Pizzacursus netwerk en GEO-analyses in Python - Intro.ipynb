{
 "cells": [
  {
   "cell_type": "markdown",
   "id": "44039af8",
   "metadata": {},
   "source": [
    "## Introduction Python packages\n",
    "We will use the following Python packages in this course:\n",
    "  - [pathlib](#pathlib)\n",
    "  - [tqdm](#tqdm)\n",
    "  - [shapely](#shapely)\n",
    "  - [pandas](#pandas)\n",
    "  - [geopandas](#geopandas)\n",
    "  - [networkx](#networkx)\n",
    "  "
   ]
  },
  {
   "cell_type": "markdown",
   "id": "c8c71dcf",
   "metadata": {},
   "source": [
    "<a id='pathlib'></a>\n",
    "### Introduction to the `pathlib` package\n",
    "\n",
    "The `pathlib` module in Python is a user-friendly library for working with file system paths. It is part of the standard library, making it available in every Python installation.\n",
    "\n",
    "Here's a table summarizing some of the most commonly used functionalities of the `pathlib` module:\n",
    "\n",
    "| Functionality               | Description                                                                 |\n",
    "|-----------------------------|-----------------------------------------------------------------------------|\n",
    "| `Path(\"/path/to/directory\")`| Create a `Path` object representing a directory or file path.               |\n",
    "| `.exists()`                 | Check if the path exists in the file system.                                |\n",
    "| `.mkdir()`                  | Create a new directory at the specified path.                               |\n",
    "| `.iterdir()`                | Iterate through the contents (files and directories) of a directory.        |\n",
    "| `.parent`                   | Get the parent directory of the current path.                               |\n",
    "| `/`                         | Join paths together, creating a new `Path` object.                          |\n",
    "| `.is_dir()`                 | Check if the path represents a directory.                                   |\n",
    "| `.is_file()`                | Check if the path represents a file.                                        |\n",
    "| `.resolve()`                | Get the absolute path by resolving any symbolic links.                      |\n",
    "\n",
    "Now, let's explore these functionalities with code examples below."
   ]
  },
  {
   "cell_type": "markdown",
   "id": "de4dc6b0",
   "metadata": {},
   "source": [
    "As a data scientist specializing in water management, you deal with a vast amount of data files, simulations, and reports related to water resources. To streamline your data management tasks, you decide to utilize Python's `pathlib` module.\n",
    "\n",
    "In your water management project directory, you have the following:\n",
    "\n",
    "- `sensor_data`: This directory contains raw data collected from various water sensors.\n",
    "- `simulations`: This directory stores the results of hydrological simulations.\n",
    "- `reports`: This directory holds reports and analysis documents.\n",
    "- `final_report.pdf`: The final comprehensive water management report."
   ]
  },
  {
   "cell_type": "code",
   "execution_count": 1,
   "id": "837ec7a5",
   "metadata": {},
   "outputs": [],
   "source": [
    "# Import the pathlib module\n",
    "from pathlib import Path"
   ]
  },
  {
   "cell_type": "code",
   "execution_count": 2,
   "id": "ce16b6ee",
   "metadata": {},
   "outputs": [],
   "source": [
    "# Create a Path object for your water management project directory\n",
    "project_directory = Path(\"/path/to/water_management_project\")"
   ]
  },
  {
   "cell_type": "code",
   "execution_count": 3,
   "id": "3b556ffb",
   "metadata": {},
   "outputs": [
    {
     "name": "stdout",
     "output_type": "stream",
     "text": [
      "The water management project directory \\path\\to\\water_management_project does not exist.\n"
     ]
    }
   ],
   "source": [
    "# Check if the project directory exists\n",
    "if project_directory.exists():\n",
    "    print(f\"The water management project directory {project_directory} exists.\")\n",
    "else:\n",
    "    print(f\"The water management project directory {project_directory} does not exist.\")"
   ]
  },
  {
   "cell_type": "code",
   "execution_count": null,
   "id": "f46f5cc5",
   "metadata": {},
   "outputs": [],
   "source": [
    "# Create a Path object for sensor data\n",
    "sensor_data_directory = project_directory / \"sensor_data\""
   ]
  },
  {
   "cell_type": "code",
   "execution_count": null,
   "id": "7d26823e",
   "metadata": {},
   "outputs": [],
   "source": [
    "# List all sensor data files\n",
    "print(\"\\nList of Sensor Data Files:\")\n",
    "for data_file in sensor_data_directory.iterdir():\n",
    "    print(data_file)"
   ]
  },
  {
   "cell_type": "code",
   "execution_count": null,
   "id": "a17b4171",
   "metadata": {},
   "outputs": [],
   "source": [
    "# Create a new data file\n",
    "new_data_file = sensor_data_directory / \"sensor_data_2023.csv\"\n",
    "new_data_file.touch()"
   ]
  },
  {
   "cell_type": "code",
   "execution_count": null,
   "id": "99e3e75a",
   "metadata": {},
   "outputs": [],
   "source": [
    "# Create a Path object for simulation results\n",
    "simulations_directory = project_directory / \"simulations\""
   ]
  },
  {
   "cell_type": "code",
   "execution_count": null,
   "id": "b2d2bba5",
   "metadata": {},
   "outputs": [],
   "source": [
    "# List all simulation results\n",
    "print(\"\\nList of Simulation Results:\")\n",
    "for result_file in simulations_directory.iterdir():\n",
    "    print(result_file)"
   ]
  },
  {
   "cell_type": "code",
   "execution_count": null,
   "id": "417bda2f",
   "metadata": {},
   "outputs": [],
   "source": [
    "# Create a new simulation result file\n",
    "new_result_file = simulations_directory / \"hydro_simulation_v2.csv\"\n",
    "new_result_file.touch()"
   ]
  },
  {
   "cell_type": "code",
   "execution_count": null,
   "id": "8fe0151f",
   "metadata": {},
   "outputs": [],
   "source": [
    "# Get the path to the final comprehensive report\n",
    "final_report = project_directory / \"final_report.pdf\""
   ]
  },
  {
   "cell_type": "code",
   "execution_count": null,
   "id": "20bebade",
   "metadata": {},
   "outputs": [],
   "source": [
    "# Check if the final report exists\n",
    "if final_report.exists():\n",
    "    print(f\"\\nThe final comprehensive report {final_report} exists.\")\n",
    "else:\n",
    "    print(f\"\\nThe final comprehensive report {final_report} does not exist.\")"
   ]
  },
  {
   "cell_type": "code",
   "execution_count": null,
   "id": "26894d56",
   "metadata": {},
   "outputs": [],
   "source": [
    "# Resolve the final report path to an absolute path\n",
    "resolved_final_report = final_report.resolve()\n",
    "print(f\"\\nThe resolved path to the final report is {resolved_final_report}\")"
   ]
  },
  {
   "cell_type": "markdown",
   "id": "8642b2aa",
   "metadata": {},
   "source": [
    " "
   ]
  },
  {
   "cell_type": "markdown",
   "id": "8b5c6e35",
   "metadata": {},
   "source": [
    "<a id='tqdm'></a>\n",
    "### Introduction to the `tqdm` package\n",
    "The `tqdm` package in Python is a handy library for adding progress bars to your loops and iterable-based tasks. It provides a visual way to monitor the progress of operations, making it easier to estimate completion times and keep track of long-running tasks.\n",
    "\n",
    "Here are some of the key features and functionalities of the `tqdm` package:\n",
    "\n",
    "- **Progress Bars**: Easily add progress bars to loops and iterators to track the progress of your code.\n",
    "- **Customization**: Customize the appearance and format of the progress bars, including text descriptions and styling.\n",
    "- **Iterable Support**: Works seamlessly with various Python iterable objects, such as lists, ranges, and more.\n",
    "- **Speed Estimation**: `tqdm` can estimate the time remaining for a task based on the current progress.\n",
    "\n",
    "Now, let's dive into some code examples to see how `tqdm` can improve your Python coding experience.\n"
   ]
  },
  {
   "cell_type": "code",
   "execution_count": null,
   "id": "deea31a5",
   "metadata": {},
   "outputs": [],
   "source": [
    "# Import the tqdm package for progress bars\n",
    "from tqdm import tqdm\n",
    "import time\n",
    "import random\n",
    "\n",
    "# Scenario: Analyzing Water Level Data\n",
    "\n",
    "# You're a data scientist working on water management, and you have received a large dataset\n",
    "# containing water level measurements from various monitoring stations. Your task is to load\n",
    "# and analyze this data efficiently.\n",
    "\n",
    "# Simulate loading the water level data (for the sake of the example)\n",
    "data = [random.uniform(0.0, 10.0) for _ in range(10000)]\n",
    "\n",
    "print(\"Step 1: Loading Water Level Data\")\n",
    "# Use tqdm to visualize the progress of data loading\n",
    "for value in tqdm(data, total=len(data), desc=\"Data Loading\", unit=\"data points\"):\n",
    "    time.sleep(0.0001)  # Simulate data analysis time\n",
    "        \n",
    "print(\"Data loading complete.\")"
   ]
  },
  {
   "cell_type": "code",
   "execution_count": null,
   "id": "80b00bd3",
   "metadata": {},
   "outputs": [],
   "source": [
    "# Step 2: Customize the Appearance of the Progress Bar\n",
    "\n",
    "print(\"\\nStep 2: Analyzing Water Level Data\")\n",
    "# Customize the appearance of the progress bar\n",
    "for value in tqdm(data, total=len(data), desc=\"Analyzing\", bar_format=\"{desc}: {percentage:3.0f}%|{bar}| {n_fmt}/{total_fmt} [{elapsed}] ETA: {remaining}\", unit=\"data points\"):\n",
    "    time.sleep(0.0001)  # Simulate data analysis time\n",
    "\n",
    "print(\"Data analysis complete.\")"
   ]
  },
  {
   "cell_type": "markdown",
   "id": "93a56fc6",
   "metadata": {},
   "source": [
    " "
   ]
  },
  {
   "cell_type": "markdown",
   "id": "42416667",
   "metadata": {},
   "source": [
    "<a id='shapely'></a>\n",
    "### Introducing the `shapely` Package\n",
    "\n",
    "The `shapely` package in Python is a powerful library for geometric operations and manipulation of planar geometric objects. It is commonly used for tasks related to spatial analysis, such as working with points, lines, polygons, and performing various geometric operations.\n",
    "\n",
    "Here are some of the key features and functionalities of the `shapely` package:\n",
    "\n",
    "- **Geometric Objects**: `shapely` provides classes for creating and manipulating various geometric objects, including `Point`, `LineString`, `Polygon`, `MultiPoint`, `MultiLineString`, and `MultiPolygon`.\n",
    "\n",
    "- **Geometric Operations**: You can perform a wide range of geometric operations, such as intersections, unions, differences, buffering, and more, on these objects.\n",
    "\n",
    "- **Predicates**: `shapely` offers predicates to check relationships between geometric objects, such as containment, touch, overlap, and more.\n",
    "\n",
    "- **Geometric Analysis**: You can calculate properties of geometric objects, such as area, length, perimeter, and centroids.\n",
    "\n",
    "- **Geometry Validation**: The package provides tools to validate and fix invalid geometries, ensuring they conform to the specifications.\n",
    "\n",
    "- **Integration**: It is often used in combination with other spatial libraries and tools, such as `geopandas` and GIS software, for advanced spatial analysis.\n",
    "\n",
    "Here's a table summarizing some of the most commonly used functionalities of the `shapely` module:"
   ]
  },
  {
   "cell_type": "markdown",
   "id": "75bc953b",
   "metadata": {},
   "source": [
    "| Functionality                           | Description                                                         |\n",
    "|----------------------------------------|---------------------------------------------------------------------|\n",
    "| `Point(x, y)`                          | Create a point with coordinates `(x, y)`.                          |\n",
    "| `LineString(coords)`                    | Create a line string from a list of coordinates.                   |\n",
    "| `Polygon(shell, holes=None)`            | Create a polygon from a shell (exterior) and optional holes.       |\n",
    "| `MultiPoint(points)`                   | Create a collection of points.                                      |\n",
    "| `MultiLineString(lines)`               | Create a collection of line strings.                                |\n",
    "| `MultiPolygon(polygons)`               | Create a collection of polygons.                                    |\n",
    "| `object.geom_type`                     | Get the type of a geometric object (e.g., 'Point', 'Polygon').     |\n",
    "| `object.area`                          | Calculate the area of a polygon.                                   |\n",
    "| `object.length`                        | Calculate the length of a line string or perimeter of a polygon.   |\n",
    "| `object.bounds`                        | Get the bounding box coordinates of an object `(minx, miny, maxx, maxy)`. |\n",
    "| `object.centroid`                      | Get the centroid of a polygon.                                      |\n",
    "| `object.buffer(distance)`              | Create a buffer (a polygon at a fixed distance from the object).   |\n",
    "| `object.intersection(other)`           | Calculate the intersection of two geometric objects.               |\n",
    "| `object.union(other)`                  | Calculate the union of two geometric objects.                      |\n",
    "| `object.difference(other)`             | Calculate the difference between two geometric objects.             |\n",
    "| `object.touches(other)`                | Check if an object touches another object.                          |\n",
    "| `object.contains(other)`               | Check if an object contains another object.                         |\n",
    "| `object.within(other)`                 | Check if an object is within another object.                        |\n",
    "| `object.is_valid`                      | Check if an object is a valid geometry.                             |\n",
    "| `object.is_empty`                      | Check if an object is empty.                                        |\n",
    "| `object.equals(other)`                 | Check if two objects are equal.                                     |\n",
    "| `object.distance(other)`               | Calculate the distance between two objects.                         |\n",
    "| `object.representative_point()`        | Get a representative point for a geometry.                          |\n",
    "| `object.simplify(tolerance=0.1)`       | Simplify a geometry by removing unnecessary points.                 |\n",
    "| `object.to_wkt()`                      | Convert a geometry to Well-Known Text (WKT) format.                 |\n",
    "| `object.to_geojson()`                  | Convert a geometry to GeoJSON format.                               |\n"
   ]
  },
  {
   "cell_type": "markdown",
   "id": "9937fecc",
   "metadata": {},
   "source": [
    "Now, let's explore these functionalities with code examples to understand how `shapely` can be a valuable tool for working with geometric data in Python."
   ]
  },
  {
   "cell_type": "code",
   "execution_count": 6,
   "id": "12e0bf3a",
   "metadata": {},
   "outputs": [
    {
     "ename": "ModuleNotFoundError",
     "evalue": "No module named 'shapely'",
     "output_type": "error",
     "traceback": [
      "\u001b[1;31m---------------------------------------------------------------------------\u001b[0m",
      "\u001b[1;31mModuleNotFoundError\u001b[0m                       Traceback (most recent call last)",
      "Cell \u001b[1;32mIn[6], line 2\u001b[0m\n\u001b[0;32m      1\u001b[0m \u001b[38;5;66;03m# Import the Shapely package\u001b[39;00m\n\u001b[1;32m----> 2\u001b[0m \u001b[38;5;28;01mfrom\u001b[39;00m \u001b[38;5;21;01mshapely\u001b[39;00m\u001b[38;5;21;01m.\u001b[39;00m\u001b[38;5;21;01mgeometry\u001b[39;00m \u001b[38;5;28;01mimport\u001b[39;00m Point, LineString, Polygon\n\u001b[0;32m      4\u001b[0m \u001b[38;5;66;03m# Scenario: Analyzing Water Monitoring Stations\u001b[39;00m\n\u001b[0;32m      5\u001b[0m \n\u001b[0;32m      6\u001b[0m \u001b[38;5;66;03m# You're a data scientist in water management, and you need to analyze the locations\u001b[39;00m\n\u001b[0;32m      7\u001b[0m \u001b[38;5;66;03m# of water monitoring stations and perform some spatial operations.\u001b[39;00m\n\u001b[0;32m      8\u001b[0m \n\u001b[0;32m      9\u001b[0m \u001b[38;5;66;03m# Simulate the locations of water monitoring stations (for the sake of the example)\u001b[39;00m\n\u001b[0;32m     10\u001b[0m station_A \u001b[38;5;241m=\u001b[39m Point(\u001b[38;5;241m5\u001b[39m, \u001b[38;5;241m10\u001b[39m)    \u001b[38;5;66;03m# Station A at coordinates (5, 10)\u001b[39;00m\n",
      "\u001b[1;31mModuleNotFoundError\u001b[0m: No module named 'shapely'"
     ]
    }
   ],
   "source": [
    "# Import the Shapely package\n",
    "from shapely.geometry import Point, LineString, Polygon\n",
    "\n",
    "# Scenario: Analyzing Water Monitoring Stations\n",
    "\n",
    "# You're a data scientist in water management, and you need to analyze the locations\n",
    "# of water monitoring stations and perform some spatial operations.\n",
    "\n",
    "# Simulate the locations of water monitoring stations (for the sake of the example)\n",
    "station_A = Point(5, 10)    # Station A at coordinates (5, 10)\n",
    "station_B = Point(8, 8)     # Station B at coordinates (8, 8)\n",
    "station_C = Point(12, 6)    # Station C at coordinates (12, 6)\n",
    "\n",
    "# Create a LineString representing a river\n",
    "river = LineString([(2, 3), (4, 7), (6, 12), (10, 9), (15, 5)])\n",
    "\n",
    "# Create a Polygon representing a water reservoir\n",
    "reservoir = Polygon([(4, 2), (4, 6), (8, 6), (8, 2)])"
   ]
  },
  {
   "cell_type": "code",
   "execution_count": 5,
   "id": "e6248f3f",
   "metadata": {},
   "outputs": [
    {
     "name": "stdout",
     "output_type": "stream",
     "text": [
      "Functionality 1: Check if Stations are within the Reservoir\n"
     ]
    },
    {
     "ename": "NameError",
     "evalue": "name 'station_A' is not defined",
     "output_type": "error",
     "traceback": [
      "\u001b[1;31m---------------------------------------------------------------------------\u001b[0m",
      "\u001b[1;31mNameError\u001b[0m                                 Traceback (most recent call last)",
      "Cell \u001b[1;32mIn[5], line 4\u001b[0m\n\u001b[0;32m      1\u001b[0m \u001b[38;5;66;03m# Functionality 1: Check if Stations are within the Reservoir\u001b[39;00m\n\u001b[0;32m      3\u001b[0m \u001b[38;5;28mprint\u001b[39m(\u001b[38;5;124m\"\u001b[39m\u001b[38;5;124mFunctionality 1: Check if Stations are within the Reservoir\u001b[39m\u001b[38;5;124m\"\u001b[39m)\n\u001b[1;32m----> 4\u001b[0m \u001b[38;5;28;01mif\u001b[39;00m station_A\u001b[38;5;241m.\u001b[39mwithin(reservoir):\n\u001b[0;32m      5\u001b[0m     \u001b[38;5;28mprint\u001b[39m(\u001b[38;5;124m\"\u001b[39m\u001b[38;5;124mStation A is within the reservoir.\u001b[39m\u001b[38;5;124m\"\u001b[39m)\n\u001b[0;32m      6\u001b[0m \u001b[38;5;28;01melse\u001b[39;00m:\n",
      "\u001b[1;31mNameError\u001b[0m: name 'station_A' is not defined"
     ]
    }
   ],
   "source": [
    "# Functionality 1: Check if Stations are within the Reservoir\n",
    "\n",
    "print(\"Functionality 1: Check if Stations are within the Reservoir\")\n",
    "if station_A.within(reservoir):\n",
    "    print(\"Station A is within the reservoir.\")\n",
    "else:\n",
    "    print(\"Station A is outside the reservoir.\")\n",
    "\n",
    "if station_B.within(reservoir):\n",
    "    print(\"Station B is within the reservoir.\")\n",
    "else:\n",
    "    print(\"Station B is outside the reservoir.\")\n",
    "\n",
    "if station_C.within(reservoir):\n",
    "    print(\"Station C is within the reservoir.\")\n",
    "else:\n",
    "    print(\"Station C is outside the reservoir.\")"
   ]
  },
  {
   "cell_type": "code",
   "execution_count": null,
   "id": "a8007a3d",
   "metadata": {},
   "outputs": [],
   "source": [
    "# Functionality 2: Find the Intersection between the River and Reservoir\n",
    "\n",
    "print(\"\\nFunctionality 2: Find the Intersection between the River and Reservoir\")\n",
    "river_reservoir_intersection = river.intersection(reservoir)"
   ]
  },
  {
   "cell_type": "code",
   "execution_count": null,
   "id": "20a332e0",
   "metadata": {},
   "outputs": [],
   "source": [
    "# Functionality 3: Calculate the Length of the River and Perimeter of the Reservoir\n",
    "\n",
    "print(\"\\nFunctionality 3: Calculate the Length of the River and Perimeter of the Reservoir\")\n",
    "river_length = river.length\n",
    "reservoir_perimeter = reservoir.length\n",
    "\n",
    "print(f\"Length of the river: {river_length:.2f} units\")\n",
    "print(f\"Perimeter of the reservoir: {reservoir_perimeter:.2f} units\")"
   ]
  },
  {
   "cell_type": "code",
   "execution_count": null,
   "id": "1e748ca8",
   "metadata": {},
   "outputs": [],
   "source": [
    "# Functionality 4: Create a Buffer Zone around Station B\n",
    "\n",
    "print(\"\\nFunctionality 4: Create a Buffer Zone around Station B\")\n",
    "buffer_zone = station_B.buffer(2)  # Create a buffer zone with a radius of 2 units around Station B"
   ]
  },
  {
   "cell_type": "code",
   "execution_count": null,
   "id": "777fe3c5",
   "metadata": {},
   "outputs": [],
   "source": [
    "# Functionality 5: Check if the Buffer Zone Intersects with the River\n",
    "\n",
    "print(\"\\nFunctionality 5: Check if the Buffer Zone Intersects with the River\")\n",
    "if buffer_zone.intersects(river):\n",
    "    print(\"The buffer zone around Station B intersects with the river.\")\n",
    "else:\n",
    "    print(\"The buffer zone around Station B does not intersect with the river.\")"
   ]
  },
  {
   "cell_type": "code",
   "execution_count": null,
   "id": "325a5f42",
   "metadata": {},
   "outputs": [],
   "source": [
    "# Functionality 6: Calculate the Area of the Reservoir\n",
    "\n",
    "print(\"\\nFunctionality 6: Calculate the Area of the Reservoir\")\n",
    "reservoir_area = reservoir.area\n",
    "print(f\"Area of the reservoir: {reservoir_area:.2f} square units\")"
   ]
  }
 ],
 "metadata": {
  "kernelspec": {
   "display_name": "Python 3 (ipykernel)",
   "language": "python",
   "name": "python3"
  },
  "language_info": {
   "codemirror_mode": {
    "name": "ipython",
    "version": 3
   },
   "file_extension": ".py",
   "mimetype": "text/x-python",
   "name": "python",
   "nbconvert_exporter": "python",
   "pygments_lexer": "ipython3",
   "version": "3.11.4"
  }
 },
 "nbformat": 4,
 "nbformat_minor": 5
}
