{
 "cells": [
  {
   "cell_type": "markdown",
   "id": "59461cfd",
   "metadata": {},
   "source": [
    "# Network and Geospatial Analyses\n",
    "## Part 1: Geospatial Analysis\n",
    "`Author: Stijn Overmeen (stijn.overmeen@nelen-schuurmans.nl)`\n",
    "\n",
    "Assumed knowledge:\n",
    "  - Pizzacursus netwerk en GEO-analyses in Python - Intro\n",
    "\n",
    "This tutorial consists of a some additional theory and practice code. After this, you are ready to start working on the first case of the day:\n",
    "  - [Theory and Practice](#theory)\n",
    "  - [Case 1 - Afstand-tot-Koelte: setting up the network](#case1)\n",
    "   \n",
    "#### Disclaimer: This course material is intended solely for internal use within Nelen & Schuurmans and is provided exclusively for educational purposes. All rights, including copyright, pertaining to this material are owned or licensed by Nelen & Schuurmans.  "
   ]
  },
  {
   "cell_type": "markdown",
   "id": "17e58ede",
   "metadata": {},
   "source": [
    "<a id='theory'></a>\n",
    "### Theory and Practice\n"
   ]
  },
  {
   "cell_type": "markdown",
   "id": "5916d500",
   "metadata": {},
   "source": [
    "<a id='case1'></a>\n",
    "### Case 1 - Afstand-tot-Koelte: setting up the network"
   ]
  },
  {
   "cell_type": "code",
   "execution_count": null,
   "id": "e64c6228",
   "metadata": {},
   "outputs": [],
   "source": []
  }
 ],
 "metadata": {
  "kernelspec": {
   "display_name": "Python 3 (ipykernel)",
   "language": "python",
   "name": "python3"
  },
  "language_info": {
   "codemirror_mode": {
    "name": "ipython",
    "version": 3
   },
   "file_extension": ".py",
   "mimetype": "text/x-python",
   "name": "python",
   "nbconvert_exporter": "python",
   "pygments_lexer": "ipython3",
   "version": "3.11.4"
  }
 },
 "nbformat": 4,
 "nbformat_minor": 5
}
