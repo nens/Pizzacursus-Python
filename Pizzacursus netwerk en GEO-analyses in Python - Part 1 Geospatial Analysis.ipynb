{
 "cells": [
  {
   "cell_type": "markdown",
   "id": "59461cfd",
   "metadata": {},
   "source": [
    "# Network and Geospatial Analyses\n",
    "## Part 1: Geospatial Analysis\n",
    "`Author: Stijn Overmeen (stijn.overmeen@nelen-schuurmans.nl)`\n",
    "\n",
    "Assumed knowledge:\n",
    "  - Pizzacursus netwerk en GEO-analyses in Python - Intro\n",
    "\n",
    "This tutorial consists of a some additional theory and practice code. After this, you are ready to start working on the first case of the day:\n",
    "  - [Theory: splitting geometries](#theory1)\n",
    "  - [Theory: finding nearest feature](#theory2)\n",
    "  - [Case 1 - Afstand-tot-Koelte: preprocessing the network](#case1)\n",
    "  - [Bonus - Slicing polygons in half](#bonus)\n",
    "   \n",
    "#### Disclaimer: This course material is intended solely for internal use within Nelen & Schuurmans and is provided exclusively for educational purposes. All rights, including copyright, pertaining to this material are owned or licensed by Nelen & Schuurmans.  "
   ]
  },
  {
   "cell_type": "markdown",
   "id": "17e58ede",
   "metadata": {},
   "source": [
    "<a id='theory1'></a>\n",
    "### Theory: splitting geometries\n",
    "Splitting geometries into smaller parts, while essential in some analyses, can introduce potential dangers. Altering the geometry may have unintended consequences, such as introducing topological errors or misrepresenting real-world features.\n",
    "\n",
    "Let's start splitting geometries, while being careful that we do not introduce toplogical errors."
   ]
  },
  {
   "cell_type": "code",
   "execution_count": null,
   "id": "f582849a",
   "metadata": {},
   "outputs": [],
   "source": [
    "# We load in the Python packages we learned to use in the Intro\n",
    "from pathlib import Path\n",
    "from tqdm import tqdm\n",
    "from shapely import Point, LineString, Polygon, make_valid\n",
    "import geopandas as gpd\n",
    "\n",
    "# We also need these (basic) Python packages\n",
    "import numpy as np\n",
    "import matplotlib.pyplot as plt"
   ]
  },
  {
   "cell_type": "markdown",
   "id": "948a0d60",
   "metadata": {},
   "source": [
    "#### Splitting lines in smaller segments\n",
    "Let's start with splitting lines in smaller segments. Should be quite straightforward, right?\n",
    "\n",
    "##### split_line_by_length_1\n",
    "I wrote the function `split_line_by_length_1`. It checks whether the original line is equal or smaller than the maximum length. If so, it returns the original line, it does not need to be splitted. \n",
    "\n",
    "Else, we start the splitting procedure. We first decide how many segments we need. We do this based on the total length divided by the segment length. We take the ceil. The ceil of x is the smallest integer i, such that i >= x. In other words, if we need 4.2 segments, we will create 5.\n",
    "\n",
    "Then we will calculate the length of each segment based on the number of segments. We retrieve the coordinates on the line belonging to each segment with its new length in a loop. In another loop we convert the coordinates to a LineString and append the new line to the list of segments. \n",
    "\n",
    "Makes sense?"
   ]
  },
  {
   "cell_type": "code",
   "execution_count": null,
   "id": "1b1a5199",
   "metadata": {},
   "outputs": [],
   "source": [
    "def split_line_by_length_1(line_geometry, max_segment_length):\n",
    "    \"\"\" check if line is longer than threshold and if so, split into smaller segments\"\"\"\n",
    "    total_length = line_geometry.length\n",
    "    if total_length <= max_segment_length:\n",
    "        return [line_geometry]\n",
    "    \n",
    "    segments = []\n",
    "    \n",
    "    num_segments = int(np.ceil(total_length / max_segment_length))\n",
    "    step = total_length / num_segments\n",
    "\n",
    "    split_distances = [i * step for i in range(num_segments + 1)]\n",
    "    split_points = [line_geometry.interpolate(distance) for distance in split_distances]\n",
    "\n",
    "    for i in range(len(split_points) - 1):\n",
    "        segment = LineString([split_points[i], split_points[i + 1]])\n",
    "        segments.append(segment)\n",
    "\n",
    "    return segments"
   ]
  },
  {
   "cell_type": "markdown",
   "id": "52f71fb4",
   "metadata": {},
   "source": [
    "Let's put this function to the test."
   ]
  },
  {
   "cell_type": "code",
   "execution_count": null,
   "id": "ccb937a4",
   "metadata": {},
   "outputs": [],
   "source": [
    "# Example\n",
    "line_coords = [(0, 0), (2.1, 5.77), (11.53, 12.74), (19.9, 11.6), (22.22, 9.96)]\n",
    "line_geometry = LineString(line_coords)\n",
    "max_segment_length = 5.0"
   ]
  },
  {
   "cell_type": "code",
   "execution_count": null,
   "id": "05024873",
   "metadata": {},
   "outputs": [],
   "source": [
    "# Let's run our splitting function\n",
    "resulting_segments_1 = split_line_by_length_1(line_geometry, max_segment_length)"
   ]
  },
  {
   "cell_type": "code",
   "execution_count": null,
   "id": "a593a93b",
   "metadata": {},
   "outputs": [],
   "source": [
    "# Print segment lengths\n",
    "for segment in resulting_segments_1:\n",
    "    print(segment.length)"
   ]
  },
  {
   "cell_type": "code",
   "execution_count": null,
   "id": "8350a29e",
   "metadata": {},
   "outputs": [],
   "source": [
    "# Function to plot the LineString and its segments\n",
    "def plot_line_and_segments(line_geometry, segments):\n",
    "    fig, ax = plt.subplots()\n",
    "\n",
    "    # Plot the original LineString\n",
    "    ax.plot(*line_geometry.xy, marker='o', label='Original LineString')\n",
    "\n",
    "    # Plot the segments\n",
    "    for segment in segments:\n",
    "        ax.plot(*segment.xy, marker='x', linestyle='dashed', label='Segment')\n",
    "\n",
    "    ax.set_xlabel('X')\n",
    "    ax.set_ylabel('Y')\n",
    "    ax.legend()\n",
    "    plt.show()"
   ]
  },
  {
   "cell_type": "code",
   "execution_count": null,
   "id": "d333360b",
   "metadata": {},
   "outputs": [],
   "source": [
    "# Let's create the plot\n",
    "plot_line_and_segments(line_geometry, resulting_segments_1)"
   ]
  },
  {
   "cell_type": "markdown",
   "id": "2ff9e803",
   "metadata": {},
   "source": [
    "Hmm, take some time to analyse this result. We ended up changing the geometry. Why do you think so? What is \"wrong\" with our approach?"
   ]
  },
  {
   "cell_type": "markdown",
   "id": "0e54937c",
   "metadata": {},
   "source": [
    "..."
   ]
  },
  {
   "cell_type": "markdown",
   "id": "99b5d7ea",
   "metadata": {},
   "source": [
    "##### split_line_by_length_2\n",
    "I wrote the function `split_line_by_length_2`. Take a look at the function description and the code itself. What has changed?"
   ]
  },
  {
   "cell_type": "markdown",
   "id": "b8064571",
   "metadata": {},
   "source": [
    "..."
   ]
  },
  {
   "cell_type": "code",
   "execution_count": null,
   "id": "a8954be9",
   "metadata": {},
   "outputs": [],
   "source": [
    "def split_line_by_length_2(line_geometry, max_segment_length):\n",
    "    \"\"\" \n",
    "    iterate over line coordinates (the original line segments)\n",
    "    check if each line segment is longer than threshold and if so, split segment into smaller subsegments\n",
    "    \"\"\"\n",
    "    coords = list(line_geometry.coords)\n",
    "    segments = []\n",
    "\n",
    "    for i in range(len(coords) - 1):\n",
    "        start = Point(coords[i])\n",
    "        end = Point(coords[i + 1])\n",
    "        segment_length = start.distance(end)\n",
    "\n",
    "        if segment_length <= max_segment_length:\n",
    "            segments.append(LineString([start, end]))\n",
    "        else:\n",
    "            num_subsegments = int(np.ceil(segment_length / max_segment_length))\n",
    "            x_coords = np.linspace(start.x, end.x, num_subsegments + 1)\n",
    "            y_coords = np.linspace(start.y, end.y, num_subsegments + 1)\n",
    "\n",
    "            subsegment_points = [Point(x, y) for x, y in zip(x_coords, y_coords)]\n",
    "            segments.extend([LineString([subsegment_points[j], subsegment_points[j + 1]]) for j in range(len(subsegment_points) - 1)])\n",
    "\n",
    "    return segments"
   ]
  },
  {
   "cell_type": "code",
   "execution_count": null,
   "id": "579ad5bf",
   "metadata": {},
   "outputs": [],
   "source": [
    "# Let's run the second splitting function and check out the results\n",
    "resulting_segments_2 = split_line_by_length_2(line_geometry, max_segment_length)\n",
    "\n",
    "for segment in resulting_segments_2:\n",
    "    print(segment.length)"
   ]
  },
  {
   "cell_type": "code",
   "execution_count": null,
   "id": "41c6da3e",
   "metadata": {},
   "outputs": [],
   "source": [
    "plot_line_and_segments(line_geometry, resulting_segments_2)"
   ]
  },
  {
   "cell_type": "markdown",
   "id": "bfac9099",
   "metadata": {},
   "source": [
    "Are you happy with this result? Play around with the input line geometry or splitting distance if you wish to see if this function works for all cases."
   ]
  },
  {
   "cell_type": "markdown",
   "id": "3f4431f7",
   "metadata": {},
   "source": [
    "#### Check geometry validity before any analysis\n",
    "Polygons are complex geometries. Sometimes, an invalid polygon geometry is provided by the client or created by a GIS module. This could give issues within your analysis. A polygon can be invalid due to different reasons, for instance:\n",
    "1. Self-Intersecting Polygons: A self-intersecting polygon is a polygon whose edges cross over each other, creating intersections within the polygon itself. Such polygons do not have a clear distinction between the interior and exterior areas, which can cause problems in spatial calculations and analyses.\n",
    "2. Unclosed Polygons: Polygons must be closed loops, meaning that the first and last points in the polygon's coordinate sequence must be the same.\n",
    "\n",
    "To address these problems, it's essential to perform data validation and cleaning before conducting spatial analyses. `shapely` and `geopandas` provide functions to identify and fix invalid geometries.\n",
    "\n",
    "We start with loading in the polygons saved in the folder `material/part 1`, as `Polygons.gpkg` with layername `polygons`."
   ]
  },
  {
   "cell_type": "code",
   "execution_count": null,
   "id": "1e1df150",
   "metadata": {},
   "outputs": [],
   "source": [
    "# Load in the polygons, using the knowledge you've gained from the Intro\n",
    "..."
   ]
  },
  {
   "cell_type": "code",
   "execution_count": null,
   "id": "cd762a9c",
   "metadata": {},
   "outputs": [],
   "source": [
    "# Check out the geodataframe\n",
    "..."
   ]
  },
  {
   "cell_type": "markdown",
   "id": "050eea71",
   "metadata": {},
   "source": [
    "Next up, we check out these polygons by creating some plots."
   ]
  },
  {
   "cell_type": "code",
   "execution_count": null,
   "id": "27f2b687",
   "metadata": {},
   "outputs": [],
   "source": [
    "# Function to plot polygon\n",
    "def plot_polygon(polygon_geometry):\n",
    "    fig, ax = plt.subplots()\n",
    "    x, y = polygon_geometry.exterior.coords.xy\n",
    "    ax.plot(x, y)\n",
    "    ax.fill(x, y, alpha=0.3)\n",
    "    plt.show()"
   ]
  },
  {
   "cell_type": "code",
   "execution_count": null,
   "id": "cc6970a5",
   "metadata": {},
   "outputs": [],
   "source": [
    "# Plot Polygon J\n",
    "polygon_geometry = polygons[polygons['ident'] == 'Polygon J'].iloc[0].geometry\n",
    "plot_polygon(polygon_geometry)"
   ]
  },
  {
   "cell_type": "code",
   "execution_count": null,
   "id": "706a7c0d",
   "metadata": {},
   "outputs": [],
   "source": [
    "# Function to validate geometries and raise an Exception\n",
    "def check_validity_geometry(geometry):\n",
    "    if not geometry.is_valid:\n",
    "        raise ValueError(f\"Invalid geometry: {geometry}\")"
   ]
  },
  {
   "cell_type": "code",
   "execution_count": null,
   "id": "57888b5f",
   "metadata": {},
   "outputs": [],
   "source": [
    "# Check the validity of all polygons\n",
    "..."
   ]
  },
  {
   "cell_type": "markdown",
   "id": "c0a2578a",
   "metadata": {},
   "source": [
    "Identify the invalid polygon. What is the polygon `ident`?"
   ]
  },
  {
   "cell_type": "code",
   "execution_count": null,
   "id": "7ae63275",
   "metadata": {},
   "outputs": [],
   "source": [
    "# Identify the invalid polygon by filling in the correct ident\n",
    "invalid_polygon = polygons[polygons[\"ident\"] == \"___\"]"
   ]
  },
  {
   "cell_type": "markdown",
   "id": "b10b1e93",
   "metadata": {},
   "source": [
    "An alternative approach is not only checking whether the polygon is invalid, but fixing invalid polygons right away if possible."
   ]
  },
  {
   "cell_type": "code",
   "execution_count": null,
   "id": "5edb0cd1",
   "metadata": {},
   "outputs": [],
   "source": [
    "# Function to validate geometries and fix it if possible\n",
    "def make_valid_geometry(geometry):\n",
    "    if not geometry.is_valid:\n",
    "        make_valid_geometry = make_valid(geometry)\n",
    "        if not make_valid_geometry.is_valid:\n",
    "            raise ValueError(f\"We were unable to make this invalid geometry valid: {geometry}\")\n",
    "        return make_valid_geometry\n",
    "    return geometry"
   ]
  },
  {
   "cell_type": "code",
   "execution_count": null,
   "id": "a3218b8f",
   "metadata": {},
   "outputs": [],
   "source": [
    "# Make the invalid geometries valid\n",
    "valid_polygons = polygons.copy()\n",
    "\n",
    "for idx, row in polygons.iterrows():\n",
    "    valid_polygons.at[idx, 'geometry'] = make_valid_geometry(row.geometry)"
   ]
  },
  {
   "cell_type": "code",
   "execution_count": null,
   "id": "c016b7e4",
   "metadata": {},
   "outputs": [],
   "source": [
    "# Check out the geometry of the once invalid polygon to identify the difference\n",
    "once_invalid_polygon = valid_polygons[valid_polygons[\"ident\"] == \"___\"]"
   ]
  },
  {
   "cell_type": "markdown",
   "id": "c67ee21b",
   "metadata": {},
   "source": [
    "The make_valid module turned the geometry type into a MultiPolygon in order to create a valid geometry."
   ]
  },
  {
   "cell_type": "code",
   "execution_count": null,
   "id": "2949e217",
   "metadata": {},
   "outputs": [],
   "source": [
    "# Convert MultiPolygon to a list of individual polygons\n",
    "polygons_geometry_list = list(once_invalid_polygon.iloc[0].geometry.geoms)"
   ]
  },
  {
   "cell_type": "code",
   "execution_count": null,
   "id": "71dd5000",
   "metadata": {},
   "outputs": [],
   "source": [
    "# Plot the polygon geometries in the list\n",
    "..."
   ]
  },
  {
   "cell_type": "markdown",
   "id": "cade316d",
   "metadata": {},
   "source": [
    "A way to convert multi geometries into single geometries in a GeoDataFrame is by using built-in command `explode`."
   ]
  },
  {
   "cell_type": "code",
   "execution_count": null,
   "id": "d6ed7c49",
   "metadata": {},
   "outputs": [],
   "source": [
    "# Explode the MultiPolygons into individual Polygons\n",
    "exploded_valid_polygons = valid_polygons.explode(index_parts=False)"
   ]
  },
  {
   "cell_type": "markdown",
   "id": "8afc84ca",
   "metadata": {},
   "source": [
    "Now we are confident we can start with our spatial manipulation."
   ]
  },
  {
   "cell_type": "markdown",
   "id": "2be06a8e",
   "metadata": {},
   "source": [
    "<a id='theory2'></a>\n",
    "### Theory: finding nearest feature\n",
    "\n"
   ]
  },
  {
   "cell_type": "markdown",
   "id": "2ac19217",
   "metadata": {},
   "source": [
    "Writing a function to find the nearest feature of a geodataframe to an input feature of another geodataframe is not the most difficult function to write. \n",
    "\n",
    "- We should loop over all features and check the distance between the input feature and this feature. \n",
    "- We should keep track of the minimum distance and nearest feature by updating it in case a closer feature is found than the current nearest feature. \n",
    "- In the end, after the loop, we found the nearest feature."
   ]
  },
  {
   "cell_type": "code",
   "execution_count": null,
   "id": "3baffb16",
   "metadata": {},
   "outputs": [],
   "source": [
    "# Function to find the nearest feature of a geodataframe\n",
    "def find_nearest(input_feature, search_gdf):\n",
    "    nearest_feature = None\n",
    "    min_distance = float('inf')\n",
    "    for idx, feature in search_gdf.iterrows():\n",
    "        distance = input_feature.distance(feature.geometry)\n",
    "        if distance < min_distance:\n",
    "            min_distance = distance\n",
    "            nearest_feature = feature\n",
    "    return nearest_feature"
   ]
  },
  {
   "cell_type": "markdown",
   "id": "81636932",
   "metadata": {},
   "source": [
    "Let's try this function out. Please load the following layers from the folder `material/part 1`:\n",
    "1. `Dummy Data.gpkg` with layername `buildings`.\n",
    "2. `Dummy Data.gpkg` with layername `roads`."
   ]
  },
  {
   "cell_type": "code",
   "execution_count": null,
   "id": "1b987c41",
   "metadata": {},
   "outputs": [],
   "source": [
    "..."
   ]
  },
  {
   "cell_type": "markdown",
   "id": "91c1f672",
   "metadata": {},
   "source": [
    "How many buildings and how many roads do we have?"
   ]
  },
  {
   "cell_type": "code",
   "execution_count": null,
   "id": "3c7a2a79",
   "metadata": {},
   "outputs": [],
   "source": [
    "..."
   ]
  },
  {
   "cell_type": "markdown",
   "id": "66f51f0b",
   "metadata": {},
   "source": [
    "After loading in the buildings and roads, we try to find the nearest road to all buildings."
   ]
  },
  {
   "cell_type": "code",
   "execution_count": null,
   "id": "3c2a3971",
   "metadata": {},
   "outputs": [],
   "source": [
    "# Let's find the nearest roads\n",
    "building_road_analysis = {}\n",
    "for idx, building in tqdm(buildings.iterrows(), total=len(buildings), desc=\"Finding nearest\", unit=\"buildings\"): \n",
    "    nearest_road = find_nearest(building.geometry, roads)\n",
    "    building_road_analysis[building.gid] = {\"nearest_road_id\" : nearest_road.osm_id}"
   ]
  },
  {
   "cell_type": "code",
   "execution_count": null,
   "id": "57229f96",
   "metadata": {},
   "outputs": [],
   "source": [
    "building_road_analysis"
   ]
  },
  {
   "cell_type": "markdown",
   "id": "734d48ba",
   "metadata": {},
   "source": [
    "Works fine, right? However, noticed the wait? Looping over all features in the geodataframe can be quite computational expensive."
   ]
  },
  {
   "cell_type": "markdown",
   "id": "835dbdb0",
   "metadata": {},
   "source": [
    "#### Optimize performance with spatial indexing\n",
    "Spatial indexing is a technique that optimizes spatial queries and operations on geographic data. It works by organizing geographic objects into a hierarchical structure, making searches faster and more efficient. When working with large datasets, spatial indexing is a must!\n",
    "\n",
    "Spatial indexing, like the `R-tree` method integrated in the package `geopandas`, encloses objects within bounding rectangles and organizes them hierarchically. When you query, it selectively traverses this hierarchy, leading to rapid results.\n",
    "\n",
    "In other words, we do the same analysis for way less features. A candidate, in this context, refers to a geographic feature from a dataset that might be the nearest neighbor to the input feature, based on spatial proximity.\n",
    "\n",
    "Let's transform the function to make it use spatial indexing:"
   ]
  },
  {
   "cell_type": "code",
   "execution_count": null,
   "id": "8d052b84",
   "metadata": {},
   "outputs": [],
   "source": [
    "# Function to find the nearest feature of a geodataframe using spatial indexing\n",
    "def find_nearest_with_index(input_feature, search_gdf):   \n",
    "    search_gdf_index = search_gdf.sindex # create the spatial index \n",
    "    # Use the spatial index to find the nearest feature\n",
    "    \n",
    "    possible_matches_index = list(search_gdf.sindex.intersection(input_feature.bounds))\n",
    "    if not possible_matches_index:\n",
    "        return find_nearest(input_feature, search_gdf) # if we do not find possible matches we return to the original method\n",
    "\n",
    "    nearest_feature = None\n",
    "    min_distance = float('inf')\n",
    "\n",
    "    for idx in possible_matches_index:\n",
    "        candidate = search_gdf.loc[idx]\n",
    "        distance = input_feature.distance(candidate.geometry)\n",
    "        if distance < min_distance:\n",
    "            min_distance = distance\n",
    "            nearest_feature = candidate\n",
    "\n",
    "    return nearest_feature"
   ]
  },
  {
   "cell_type": "code",
   "execution_count": null,
   "id": "866541da",
   "metadata": {},
   "outputs": [],
   "source": [
    "# Let's find the nearest roads using spatial index\n",
    "building_road_analysis = {}\n",
    "for idx, building in tqdm(buildings.iterrows(), total=len(buildings), desc=\"Finding nearest with index\", unit=\"buildings\"): \n",
    "    nearest_road = find_nearest_with_index(building.geometry, roads)\n",
    "    building_road_analysis[building.gid] = {\"nearest_road_id\" : nearest_road.osm_id}"
   ]
  },
  {
   "cell_type": "code",
   "execution_count": null,
   "id": "4d63b04f",
   "metadata": {},
   "outputs": [],
   "source": [
    "building_road_analysis"
   ]
  },
  {
   "cell_type": "markdown",
   "id": "81bb9cb5",
   "metadata": {},
   "source": [
    "#### Mini assignment\n",
    "\n",
    "Find the building that is the furthest away from any road segment. Print the road name and the distance between the road and the building.\n",
    "\n",
    "Tip 1: you probably want to use spatial indexing because you have to perform the analysis on the entire datasets..\n",
    "\n",
    "Tip 2: you might want to adapt the function to be able to get the answer that is asked for.."
   ]
  },
  {
   "cell_type": "code",
   "execution_count": null,
   "id": "aeed09d4",
   "metadata": {},
   "outputs": [],
   "source": [
    "\n",
    "\n"
   ]
  },
  {
   "cell_type": "markdown",
   "id": "5916d500",
   "metadata": {},
   "source": [
    "<a id='case1'></a>\n",
    "### Case 1 - Afstand-tot-Koelte: preprocessing the network\n",
    "Our client has asked us to provide a heatstress analysis of their city. The client's wish is to get an overview of the distance from every building to the nearest cool spot.\n",
    "\n",
    "To do this we will perform a network analysis (in `Part 2`). \n",
    "\n",
    "To prepare for our network analysis, our first task is to connect the buildings (polygons), roads (lines) and cool spots (polygons). We will connect the buildings by creating a line connecting the building with its nearest road segment. And we will do the same for the cool spots.\n",
    "\n",
    "They provided us with three datasets, saved in the folder `material/part 1`.\n",
    "\n",
    "| Geopackage - Layer                     | Description                                                                 |\n",
    "|-----------------------------|-----------------------------------------------------------------------------|\n",
    "| `Network Input - buildings` | Polygons representing the buildings |\n",
    "| `Network Input - cool spots` | LineStrings representing the road network |\n",
    "| `Network Input - roads` | Polygons representing the cool spots |\n",
    "\n",
    "Follow these steps to set up the network:\n",
    "1. Load the data into geodataframes.\n",
    "2. Validate and improve the input data (make valid and explode).\n",
    "3. Split the road geometries into small segments.\n",
    "4. Simplify the polygon features.\n",
    "5. Find the nearest road to each building and add a building connector (a line from building to road).\n",
    "6. Find the nearest road to each cool spot and add a cool spot connector (a line from cool spot to road).\n",
    "7. Combine the line layers (roads and connectors) to a line network.\n",
    "\n",
    "You can make use of the functions introduced in the sections above. Additionally, you can make use of the functions provided below.\n",
    "\n",
    "Once you get stuck, take a look at the answers to get you back on track."
   ]
  },
  {
   "cell_type": "code",
   "execution_count": null,
   "id": "e64c6228",
   "metadata": {},
   "outputs": [],
   "source": [
    "def split_line_geometries(gdf, max_segment_length):\n",
    "    \"\"\" \n",
    "    returns geodataframe with splitted line geometries\n",
    "    it uses split_line-by_length_2 for each line in the gdf\n",
    "    \"\"\"\n",
    "    split_rows = []\n",
    "\n",
    "    for idx, row in tqdm(gdf.iterrows(), total=len(gdf), desc=\"Choppin' them lines into lil' pieces...\"):\n",
    "        geometry = row['geometry']\n",
    "\n",
    "        if isinstance(geometry, LineString) and geometry.length > max_segment_length:\n",
    "            segments = split_line_by_length_2(geometry, max_segment_length)\n",
    "            for segment in segments:\n",
    "                new_row = row.copy()\n",
    "                new_row['geometry'] = segment\n",
    "                split_rows.append(new_row)\n",
    "        else:\n",
    "            split_rows.append(row)\n",
    "\n",
    "    gdf = gpd.GeoDataFrame(split_rows, columns=gdf.columns, crs=gdf.crs)\n",
    "    gdf.reset_index(drop=True, inplace=True)\n",
    "    \n",
    "    return gdf"
   ]
  },
  {
   "cell_type": "code",
   "execution_count": null,
   "id": "c6338589",
   "metadata": {},
   "outputs": [],
   "source": [
    "def update_geodataframe_with_sliced_geometries(gdf, threshold_perimeter):\n",
    "    \"\"\"\n",
    "    returns geodataframe with sliced polygon geometries\n",
    "    it uses slice_polygon_in_half for every polygon in the gdf with a perimeter >= threshold\n",
    "    \"\"\"\n",
    "    new_rows = []\n",
    "    indices_to_drop = []\n",
    "    \n",
    "    for index, row in gdf.iterrows():\n",
    "        polygon = row['geometry']\n",
    "        if polygon.exterior.length >= threshold_perimeter:\n",
    "            polygon_halves = slice_polygon_in_half(polygon)\n",
    "            \n",
    "            # Create two new rows with the sliced polygons and add them to the list with original attributes\n",
    "            new_rows.append({'geometry': polygon_halves[0], **row})\n",
    "            new_rows.append({'geometry': polygon_halves[1], **row})\n",
    "\n",
    "            # Drop the original row from the GeoDataFrame\n",
    "            indices_to_drop.append(index)\n",
    "    \n",
    "    # Drop rows\n",
    "    gdf.drop(indices_to_drop, inplace=True)\n",
    "    \n",
    "    # Append the new rows to the GeoDataFrame\n",
    "    final_gdf = pd.concat([gdf, gpd.GeoDataFrame(new_rows)], ignore_index=True)\n",
    "    \n",
    "    return final_gdf"
   ]
  },
  {
   "cell_type": "code",
   "execution_count": null,
   "id": "da12ef16",
   "metadata": {},
   "outputs": [],
   "source": [
    "def get_connecting_line(polygon_feature, line_feature):\n",
    "    \"\"\"\n",
    "    Find the vertices of polygon_feature and line_feature that are the closest to each other.\n",
    "    Create a LineString feature based on these vertices.\n",
    "    \"\"\" \n",
    "\n",
    "    # Find the nearest point on the polygon's exterior to the midpoint of the line\n",
    "    midpoint_line = line_feature.interpolate(0.5, normalized=True)\n",
    "    closest_point_polygon = polygon_feature.exterior.interpolate(polygon_feature.exterior.project(midpoint_line))\n",
    "\n",
    "    # Find the nearest point on the line to the point on the polygon\n",
    "    closest_point_line = line_feature.interpolate(line_feature.project(closest_point_polygon))\n",
    "\n",
    "    # Create a LineString feature based on the two closest points\n",
    "    connecting_line = LineString([closest_point_polygon, closest_point_line])\n",
    "\n",
    "    return connecting_line"
   ]
  },
  {
   "cell_type": "code",
   "execution_count": null,
   "id": "53bdb697",
   "metadata": {},
   "outputs": [],
   "source": [
    "#1 Load data\n",
    "path = Path.cwd().parent / \"material\" / \"part 1\" / \"Network Input.gpkg\"\n",
    "buildings = gpd.read_file(path, layer='buildings')\n",
    "cool_spots = gpd.read_file(path, layer='cool spots')\n",
    "roads = gpd.read_file(path, layer='roads')"
   ]
  },
  {
   "cell_type": "code",
   "execution_count": null,
   "id": "6e0cdff6",
   "metadata": {},
   "outputs": [],
   "source": [
    "#2a Make the invalid geometries valid\n",
    "..."
   ]
  },
  {
   "cell_type": "code",
   "execution_count": null,
   "id": "6320780f",
   "metadata": {},
   "outputs": [],
   "source": [
    "#2b Explode the MultiPolygons into individual Polygons\n",
    "..."
   ]
  },
  {
   "cell_type": "code",
   "execution_count": null,
   "id": "093299e2",
   "metadata": {},
   "outputs": [],
   "source": [
    "#3 Split roads\n",
    "..."
   ]
  },
  {
   "cell_type": "code",
   "execution_count": null,
   "id": "8698759d",
   "metadata": {},
   "outputs": [],
   "source": [
    "#4 Simplify\n",
    "..."
   ]
  },
  {
   "cell_type": "code",
   "execution_count": null,
   "id": "063ce092",
   "metadata": {},
   "outputs": [],
   "source": [
    "#5 Get connecting line between building and road, turn it into a gdf \n",
    "connecting_building_lines = []\n",
    "\n",
    "for idx, building in tqdm(simplified_exploded_valid_buildings.iterrows(), \n",
    "                          total=len(simplified_exploded_valid_buildings), \n",
    "                          desc=\"Finding nearest building & getting connecting_line\"\n",
    "                          , unit=\"buildings\"): \n",
    "    \n",
    "    nearest_road = find_nearest_with_index(building.geometry, splitted_exploded_valid_roads)\n",
    "    connecting_line = get_connecting_line(building.geometry, nearest_road.geometry)\n",
    "    \n",
    "    connecting_building_lines.append({\n",
    "        \"geometry\" : connecting_line,\n",
    "        \"building_id\" : building.gid,\n",
    "        \"road_id\"     : nearest_road.id,\n",
    "        \"function\" : \"building_connector\"\n",
    "    })\n",
    "    \n",
    "connecting_building_lines_gdf = gpd.GeoDataFrame(connecting_building_lines, geometry='geometry', crs=buildings.crs)"
   ]
  },
  {
   "cell_type": "code",
   "execution_count": null,
   "id": "eca4a8f0",
   "metadata": {},
   "outputs": [],
   "source": [
    "#6 Get connecting line between cool spot and road, turn it into a gdf\n",
    "..."
   ]
  },
  {
   "cell_type": "code",
   "execution_count": null,
   "id": "1b16021e",
   "metadata": {},
   "outputs": [],
   "source": [
    "#7 Combine to a network\n",
    "splitted_exploded_valid_roads[\"function\"] = \"road\" # add function to roads\n",
    "\n",
    "network_gdf = pd.concat(\n",
    "    [\n",
    "     splitted_exploded_valid_roads,\n",
    "     connecting_building_lines_gdf,\n",
    "     connecting_cool_spot_lines_gdf\n",
    "    ], \n",
    "    ignore_index=True\n",
    ")"
   ]
  },
  {
   "cell_type": "markdown",
   "id": "441f28e5",
   "metadata": {},
   "source": [
    "##### Finished?\n",
    "After your done, write the results to a geopackage and check it out in QGIS. Write the following variables to the geopackage:\n",
    "1. `network_gdf`\n",
    "2. `sliced_simplified_exploded_valid_buildings`\n",
    "3. `sliced_simplified_exploded_valid_cool_spots`"
   ]
  },
  {
   "cell_type": "code",
   "execution_count": null,
   "id": "7d1e622a",
   "metadata": {},
   "outputs": [],
   "source": [
    "folder_path = Path.cwd() / \"output\"\n",
    "folder_path.mkdir(parents=True, exist_ok=True)\n",
    "\n",
    "network_gdf.to_file(folder_path / \"network_preprocessed.gpkg\", driver=\"GPKG\", layer=\"network preprocessed\")\n",
    "sliced_simplified_exploded_valid_buildings.to_file(folder_path / \"network_preprocessed.gpkg\", driver=\"GPKG\", \n",
    "                                                   layer=\"buildings preprocessed\")\n",
    "sliced_simplified_exploded_valid_cool_spots.to_file(folder_path / \"network_preprocessed.gpkg\", driver=\"GPKG\", \n",
    "                                                    layer=\"cool spots preprocessed\")"
   ]
  },
  {
   "cell_type": "markdown",
   "id": "4f8ca979",
   "metadata": {},
   "source": [
    "#### Bonus\n",
    "Look critically at the network. What could be improved and how would you do so? \n",
    "\n",
    "If you have the time and the skills, make your suggested improvements come to life."
   ]
  },
  {
   "cell_type": "markdown",
   "id": "de48c608",
   "metadata": {},
   "source": [
    "..."
   ]
  },
  {
   "cell_type": "code",
   "execution_count": null,
   "id": "32005c12",
   "metadata": {},
   "outputs": [],
   "source": []
  },
  {
   "cell_type": "markdown",
   "id": "5159edc9",
   "metadata": {},
   "source": [
    "<a id='bonus'></a>\n",
    "### Bonus - Slicing polygons in half\n",
    "A way of improving the network is by connecting the larger buildings to multiple points in the network. Let's start slicing polygons in half. \n",
    "\n",
    "Slicing a polygon in half can be quite the challenge. Polygons can have quite complex shapes and sizes. Nevertheless, it is worth to mention that all polygons are beautiful in their own way.\n",
    "\n",
    "Use the following function:"
   ]
  },
  {
   "cell_type": "code",
   "execution_count": null,
   "id": "a9ede386",
   "metadata": {},
   "outputs": [],
   "source": [
    "def slice_polygon_in_half(polygon):\n",
    "    '''\n",
    "    slice polygon in half by a vertical or horizontal line\n",
    "    returns two halves (Polygon or MultiPolygon)\n",
    "    '''\n",
    "    min_x, min_y, max_x, max_y = polygon.bounds\n",
    "\n",
    "    if (max_x - min_x) >= (max_y - min_y): # if width larger than height slice it by a vertical line\n",
    "        mid_x = (min_x + max_x) / 2\n",
    "        left_mask = Polygon([(min_x, min_y), (mid_x, min_y), (mid_x, max_y), (min_x, max_y)])\n",
    "        right_mask = Polygon([(mid_x, min_y), (max_x, min_y), (max_x, max_y), (mid_x, max_y)])\n",
    "               \n",
    "        left_polygon = polygon.intersection(left_mask)\n",
    "        right_polygon = polygon.intersection(right_mask)\n",
    "        \n",
    "        return [left_polygon, right_polygon]\n",
    "    \n",
    "    else: # slice it by a horizontal line\n",
    "        mid_y = (min_y + max_y) / 2\n",
    "        bottom_mask = Polygon([(min_x, min_y), (max_x, min_y), (max_x, mid_y), (min_x, mid_y)])\n",
    "        top_mask = Polygon([(min_x, mid_y), (max_x, mid_y), (max_x, max_y), (min_x, max_y)])\n",
    "        \n",
    "        bottom_polygon = polygon.intersection(bottom_mask)\n",
    "        top_polygon = polygon.intersection(top_mask)\n",
    "        \n",
    "        return [bottom_polygon, top_polygon]"
   ]
  },
  {
   "cell_type": "markdown",
   "id": "300fe08d",
   "metadata": {},
   "source": [
    "Do you understand what the function does?\n",
    "\n",
    "Let's run the function for large polygons in our dataset. Set the threshold perimeter to define a large polygon."
   ]
  },
  {
   "cell_type": "code",
   "execution_count": null,
   "id": "7e47f5eb",
   "metadata": {},
   "outputs": [],
   "source": [
    "threshold_perimeter = ...\n",
    "\n",
    "sliced_polygons = {}\n",
    "for idx, row in exploded_valid_polygons.iterrows():\n",
    "    if row.geometry.exterior.length >= threshold_perimeter:\n",
    "        polygon_halves = slice_polygon_in_half(row.geometry)\n",
    "        sliced_polygons[row.geometry] = polygon_halves"
   ]
  },
  {
   "cell_type": "markdown",
   "id": "8a2e93b4",
   "metadata": {},
   "source": [
    "Let's check out the sliced polygons by plotting them."
   ]
  },
  {
   "cell_type": "code",
   "execution_count": null,
   "id": "ab45e901",
   "metadata": {},
   "outputs": [],
   "source": [
    "def plot_polygon_with_halves(polygon, halves):\n",
    "    polygon_x, polygon_y = polygon.exterior.xy\n",
    "    half1_x, half1_y = halves[0].exterior.xy\n",
    "    half2_x, half2_y = halves[1].exterior.xy\n",
    "\n",
    "    fig, ax = plt.subplots()\n",
    "\n",
    "    # Plot the original Polygon\n",
    "    ax.fill(polygon_x, polygon_y, facecolor='none', edgecolor='black', linewidth=4, label='Original')\n",
    "\n",
    "    # Plot the two halves on top\n",
    "    ax.fill(half1_x, half1_y, facecolor='gold', label='Half 1')\n",
    "    ax.fill(half2_x, half2_y, facecolor='teal', label='Half 2')\n",
    "\n",
    "    ax.set_xlim(polygon.bounds[0], polygon.bounds[2])\n",
    "    ax.set_ylim(polygon.bounds[1], polygon.bounds[3])\n",
    "    ax.legend()\n",
    "\n",
    "    plt.show()"
   ]
  },
  {
   "cell_type": "code",
   "execution_count": null,
   "id": "199a46cc",
   "metadata": {},
   "outputs": [],
   "source": [
    "# Plot sliced polygons\n",
    "for polygon, halves in sliced_polygons.items():\n",
    "    plot_polygon_with_halves(polygon, halves)"
   ]
  }
 ],
 "metadata": {
  "kernelspec": {
   "display_name": "Python 3 (ipykernel)",
   "language": "python",
   "name": "python3"
  },
  "language_info": {
   "codemirror_mode": {
    "name": "ipython",
    "version": 3
   },
   "file_extension": ".py",
   "mimetype": "text/x-python",
   "name": "python",
   "nbconvert_exporter": "python",
   "pygments_lexer": "ipython3",
   "version": "3.11.4"
  }
 },
 "nbformat": 4,
 "nbformat_minor": 5
}
