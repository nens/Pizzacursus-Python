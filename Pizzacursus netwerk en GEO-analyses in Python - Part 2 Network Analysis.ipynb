{
 "cells": [
  {
   "cell_type": "markdown",
   "id": "7f94e4d4",
   "metadata": {},
   "source": [
    "# Network and Geospatial Analyses\n",
    "## Part 2: Network Analysis\n",
    "`Author: Stijn Overmeen (stijn.overmeen@nelen-schuurmans.nl)`\n",
    "\n",
    "Assumed knowledge:\n",
    "  - Pizzacursus netwerk en GEO-analyses in Python - Intro\n",
    "  - Pizzacursus netwerk en GEO-analyses in Python - Part 1: Geospatial Analysis\n",
    "\n",
    "This tutorial consists of Case 2:\n",
    "  - [Case 2 - Afstand-tot-Koelte: analysing the network](#case2)\n",
    "   \n",
    "#### Disclaimer: This course material is intended solely for internal use within Nelen & Schuurmans and is provided exclusively for educational purposes. All rights, including copyright, pertaining to this material are owned or licensed by Nelen & Schuurmans.  "
   ]
  },
  {
   "cell_type": "markdown",
   "id": "3695b06f",
   "metadata": {},
   "source": [
    "<a id='case2'></a>\n",
    "### Case 2 - Afstand-tot-Koelte: analysing the network"
   ]
  },
  {
   "cell_type": "markdown",
   "id": "676c5f03",
   "metadata": {},
   "source": [
    "In `Part 1` we have preprocessed the network. Now it is time to answer the clients questions: we will do the shortest path analysis from every building to the nearest cool spot.\n",
    "\n",
    "Follow these steps to set up the network:\n",
    "1. Load the preprocessed data into a geodataframe.\n",
    "2. Calculate the length of each line and add it to a column in the geodataframe.\n",
    "3. Set up the networkx graph.\n",
    "4. Check the network connectivity. Is it in one network, or are there multiple sub-networks?\n",
    "5. You will find that there are mistake in the network data that lead to multiple sub-networks. Open the network in QGIS, remove the isolated subsystems, save the geopackage and re-load it into this notebook.\n",
    "6. Re-do steps 1 till 4.\n",
    "7. Do the shortest path analysis.\n",
    "8. Answer this question: what is the furthest walking distance from a building to any cool spot?\n",
    "\n",
    "You can make use of the classes and functions provided below.\n",
    "\n",
    "Note that the algorithm used for finding the shortest path is the `multi_source_dijkstra`. [Here](https://en.wikipedia.org/wiki/Dijkstra%27s_algorithm) you can find more information on this topic."
   ]
  },
  {
   "cell_type": "code",
   "execution_count": null,
   "id": "53ac4c3a",
   "metadata": {},
   "outputs": [],
   "source": [
    "from shapely import Point\n",
    "import networkx as nx\n",
    "import geopandas as gpd\n",
    "from tqdm import tqdm\n",
    "from pathlib import Path\n",
    "from rtree import index "
   ]
  },
  {
   "cell_type": "code",
   "execution_count": null,
   "id": "8d9411a8",
   "metadata": {},
   "outputs": [],
   "source": [
    "TOLERANCE = 0.01 # for finding existing node"
   ]
  },
  {
   "cell_type": "code",
   "execution_count": null,
   "id": "ab16e2f5",
   "metadata": {},
   "outputs": [],
   "source": [
    "class GeoDataFrame_2_Network:\n",
    "    \n",
    "    def __init__(self, network_gdf, buildings_gdf, cool_spots_gdf, cool_spot_id_field, building_id_field):\n",
    "        \n",
    "        self.gdf = network_gdf\n",
    "        self.buildings_gdf = buildings_gdf\n",
    "        self.cool_spots_gdf = cool_spots_gdf\n",
    "        self.building_id_field = building_id_field\n",
    "        self.cool_spot_id_field = cool_spot_id_field\n",
    "        \n",
    "        self.G = nx.MultiDiGraph() # initialise our multi directional network graph\n",
    "        \n",
    "        self.spatial_index_nodes = self.get_spatial_index_nodes(self.gdf)\n",
    "        self.gdf_to_graph()\n",
    "        \n",
    "        undirected_graph = self.G.to_undirected() # make sure the graph is undirected for our walking distance analysis later on\n",
    "        self.graph = nx.convert_node_labels_to_integers(undirected_graph, label_attribute='point') # we relabel the node indentifiers to integers, save coords as attribute 'point'\n",
    "\n",
    "    def gdf_to_graph(self):\n",
    "        \n",
    "        for line_idx, line in tqdm(self.gdf.iterrows(), \n",
    "                total=len(self.gdf),\n",
    "                desc=\"Puttin' them lines from the gdf into the network graph, let's get this party rollin'...\"):\n",
    "            \n",
    "            geometry = line['geometry']\n",
    "            start_node = geometry.coords[0]\n",
    "            end_node = geometry.coords[-1]\n",
    "            attributes = line.drop([\"geometry\"])\n",
    "    \n",
    "            self._add_edge_to_graph(start_node, end_node, geometry, **attributes)\n",
    "\n",
    "    def _add_edge_to_graph(self, start_node, end_node, geometry, **attributes):\n",
    "        \"\"\"add a edge to the graph, without creating duplicate nodes within tolerance\"\"\"\n",
    "        \n",
    "        existing_start_node = self._find_existing_node(start_node)\n",
    "        existing_end_node = self._find_existing_node(end_node)\n",
    "                \n",
    "        self.G.add_edge(existing_start_node, existing_end_node, geometry=geometry, **attributes)\n",
    "        \n",
    "        function_value = attributes.get(\"function\")\n",
    "        \n",
    "        if function_value in [\"building_connector\", \"cool_spot_connector\"]:\n",
    "            if function_value == \"building_connector\":\n",
    "                \n",
    "                building_id = attributes.get(\"building_id\")\n",
    "                building = self.buildings_gdf[self.buildings_gdf[self.building_id_field] == building_id]\n",
    "                geom = building.iloc[0][\"geometry\"].simplify(2)              \n",
    "                \n",
    "                building_point, road_point = (existing_start_node, existing_end_node) if geom.distance(Point(existing_start_node)) < geom.distance(Point(existing_end_node)) else (existing_end_node, existing_start_node)\n",
    "        \n",
    "                self.G.nodes[building_point][\"function\"] = \"building\"\n",
    "                self.G.nodes[building_point][\"building_id\"] = building_id\n",
    "                self.G.nodes[road_point][\"function\"] = \"building_connector\"\n",
    "        \n",
    "            if function_value == \"cool_spot_connector\":\n",
    "                \n",
    "                cool_spot_id = attributes.get(\"cool_spot_id\")\n",
    "                cool_spot = self.cool_spots_gdf[self.cool_spots_gdf[self.cool_spot_id_field] == cool_spot_id]\n",
    "                geom = cool_spot.iloc[0][\"geometry\"].simplify(2)\n",
    "                \n",
    "                cool_spot_point, road_point = (existing_start_node, existing_end_node) if geom.distance(Point(existing_start_node)) < geom.distance(Point(existing_end_node)) else (existing_end_node, existing_start_node)\n",
    "\n",
    "                self.G.nodes[cool_spot_point][\"function\"] = \"cool_spot\"\n",
    "                self.G.nodes[cool_spot_point][\"cool_spot_id\"] = cool_spot_id\n",
    "                self.G.nodes[road_point][\"function\"] = \"cool_spot_connector\"\n",
    "\n",
    "    def _find_existing_node(self, node):\n",
    "        \"\"\"return existing node within tolerance effectively by using spatial index\"\"\"\n",
    "        \n",
    "        point = Point(node)\n",
    "        nearest_nodes = list(self.spatial_index_nodes.nearest(point.bounds, 1))\n",
    "    \n",
    "        if nearest_nodes:\n",
    "            closest_index = nearest_nodes[0]\n",
    "            closest_node = self.unique_nodes[closest_index]\n",
    "            closest_distance = point.distance(Point(closest_node))\n",
    "    \n",
    "            if closest_distance < TOLERANCE:\n",
    "                return closest_node  # Return the closest existing node\n",
    "    \n",
    "        return node  # No existing node found, return the new node\n",
    "    \n",
    "    def get_spatial_index_nodes(self, gdf):\n",
    "        \"\"\"get the unique nodes from gdf and create a spatial index\"\"\"\n",
    "        self.unique_nodes = set()\n",
    "\n",
    "        for idx, row in gdf.iterrows():\n",
    "            geometry = row['geometry']  # Get the LineString geometry from the row\n",
    "            start_node = geometry.coords[0]  # Extract the start node coordinates\n",
    "            end_node = geometry.coords[-1]   # Extract the end node coordinates\n",
    "            self.unique_nodes.add(start_node)\n",
    "            self.unique_nodes.add(end_node)\n",
    "\n",
    "        self.unique_nodes = list(self.unique_nodes)\n",
    "        spatial_index_nodes = index.Index()\n",
    "        for idx, node in enumerate(self.unique_nodes):\n",
    "            spatial_index_nodes.insert(idx, Point(node).bounds)\n",
    "            \n",
    "        return spatial_index_nodes"
   ]
  },
  {
   "cell_type": "code",
   "execution_count": null,
   "id": "2caa08a2",
   "metadata": {},
   "outputs": [],
   "source": [
    "def check_connectivity_network(G):\n",
    "    if nx.is_connected(G):\n",
    "        print(\"The graph is connected.\")\n",
    "    else:\n",
    "        # If not connected, find the number of connected components\n",
    "        connected_components = list(nx.connected_components(G))\n",
    "        num_components = len(connected_components)\n",
    "        print(f\"The graph is not connected. Number of connected components: {num_components}\")"
   ]
  },
  {
   "cell_type": "code",
   "execution_count": null,
   "id": "ac9751c1",
   "metadata": {},
   "outputs": [],
   "source": [
    "#1 Load data\n",
    "path = Path.cwd() / \"output\" / \"___\"\n",
    "network = gpd.read_file(path, layer=\"___\")\n",
    "buildings = gpd.read_file(path, layer=\"___\")\n",
    "cool_spots = gpd.read_file(path, layer=\"___\")"
   ]
  },
  {
   "cell_type": "code",
   "execution_count": null,
   "id": "30f34b09",
   "metadata": {},
   "outputs": [],
   "source": [
    "#2 Calculate length\n",
    "..."
   ]
  },
  {
   "cell_type": "code",
   "execution_count": null,
   "id": "1b9080be",
   "metadata": {},
   "outputs": [],
   "source": [
    "#3 Set-up networkx graph\n",
    "geodataframe2network = GeoDataFrame_2_Network(\n",
    "    network_gdf = network,\n",
    "    buildings_gdf = buildings,\n",
    "    cool_spots_gdf = cool_spots,\n",
    "    building_id_field = \"gid\",\n",
    "    cool_spot_id_field = \"ident\"\n",
    ")\n",
    "\n",
    "graph = geodataframe2network.graph"
   ]
  },
  {
   "cell_type": "code",
   "execution_count": null,
   "id": "0c4691e7",
   "metadata": {},
   "outputs": [],
   "source": [
    "#4 Check the network connectivity\n",
    "..."
   ]
  },
  {
   "cell_type": "code",
   "execution_count": null,
   "id": "f06d1130",
   "metadata": {},
   "outputs": [],
   "source": [
    "#5 #6 ..."
   ]
  },
  {
   "cell_type": "code",
   "execution_count": null,
   "id": "336b5627",
   "metadata": {},
   "outputs": [],
   "source": [
    "#7 Shortest path analysis\n",
    "buildings = [node for node in graph.nodes if \"building_id\" in graph.nodes[node]]\n",
    "cool_spots = [node for node in graph.nodes if \"cool_spot_id\" in graph.nodes[node]]\n",
    "\n",
    "shortest_distances = []\n",
    "\n",
    "for building in tqdm(buildings, total=len(buildings), desc=\"Analysing shortest path for buildings\"):\n",
    "    try:\n",
    "        distance, p = nx.multi_source_dijkstra(graph, sources=cool_spots, target=building, weight='length')\n",
    "    except nx.NetworkXNoPath:\n",
    "        raise\n",
    "       \n",
    "    shortest_distances.append({\n",
    "        \"path\" : p,\n",
    "        \"distance\" : distance,\n",
    "        \"building_id\" : graph.nodes[building]['building_id']\n",
    "    })"
   ]
  },
  {
   "cell_type": "code",
   "execution_count": null,
   "id": "dafdd390",
   "metadata": {},
   "outputs": [],
   "source": [
    "# Answer the question\n"
   ]
  }
 ],
 "metadata": {
  "kernelspec": {
   "display_name": "Python 3 (ipykernel)",
   "language": "python",
   "name": "python3"
  },
  "language_info": {
   "codemirror_mode": {
    "name": "ipython",
    "version": 3
   },
   "file_extension": ".py",
   "mimetype": "text/x-python",
   "name": "python",
   "nbconvert_exporter": "python",
   "pygments_lexer": "ipython3",
   "version": "3.11.4"
  }
 },
 "nbformat": 4,
 "nbformat_minor": 5
}
