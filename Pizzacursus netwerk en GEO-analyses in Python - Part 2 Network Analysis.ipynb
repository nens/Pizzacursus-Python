{
 "cells": [
  {
   "cell_type": "markdown",
   "id": "7f94e4d4",
   "metadata": {},
   "source": [
    "# Network and Geospatial Analyses\n",
    "## Part 2: Network Analysis\n",
    "`Author: Stijn Overmeen (stijn.overmeen@nelen-schuurmans.nl)`\n",
    "\n",
    "Assumed knowledge:\n",
    "  - Pizzacursus netwerk en GEO-analyses in Python - Intro\n",
    "  - Pizzacursus netwerk en GEO-analyses in Python - Part 1: Geospatial Analysis\n",
    "\n",
    "This tutorial consists of a some additional theory and practice code. After this, you are ready to start working on Case 2 and 3:\n",
    "  - [Theory and Practice](#theory)\n",
    "  - [Case 2 - Afstand-tot-Koelte: analysing the network](#case2)\n",
    "   \n",
    "#### Disclaimer: This course material is intended solely for internal use within Nelen & Schuurmans and is provided exclusively for educational purposes. All rights, including copyright, pertaining to this material are owned or licensed by Nelen & Schuurmans.  "
   ]
  },
  {
   "cell_type": "markdown",
   "id": "542f0675",
   "metadata": {},
   "source": [
    "<a id='theory'></a>\n",
    "### Theory and Practice"
   ]
  },
  {
   "cell_type": "markdown",
   "id": "3695b06f",
   "metadata": {},
   "source": [
    "<a id='case2'></a>\n",
    "### Case 2 - Afstand-tot-Koelte: analysing the network"
   ]
  },
  {
   "cell_type": "code",
   "execution_count": null,
   "id": "e81aafc4",
   "metadata": {},
   "outputs": [],
   "source": []
  }
 ],
 "metadata": {
  "kernelspec": {
   "display_name": "Python 3 (ipykernel)",
   "language": "python",
   "name": "python3"
  },
  "language_info": {
   "codemirror_mode": {
    "name": "ipython",
    "version": 3
   },
   "file_extension": ".py",
   "mimetype": "text/x-python",
   "name": "python",
   "nbconvert_exporter": "python",
   "pygments_lexer": "ipython3",
   "version": "3.11.4"
  }
 },
 "nbformat": 4,
 "nbformat_minor": 5
}
